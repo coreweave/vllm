{
 "cells": [
  {
   "cell_type": "code",
   "execution_count": 1,
   "id": "a8dcc479-3551-408f-850b-57143de302bc",
   "metadata": {
    "scrolled": true
   },
   "outputs": [
    {
     "name": "stdout",
     "output_type": "stream",
     "text": [
      "Defaulting to user installation because normal site-packages is not writeable\n",
      "Requirement already satisfied: pandas in /home/ssteel/.local/lib/python3.10/site-packages (2.2.0)\n",
      "Requirement already satisfied: matplotlib in /home/ssteel/.local/lib/python3.10/site-packages (3.8.3)\n",
      "Requirement already satisfied: seaborn in /home/ssteel/.local/lib/python3.10/site-packages (0.13.2)\n",
      "Requirement already satisfied: numpy<2,>=1.22.4 in /home/ssteel/.local/lib/python3.10/site-packages (from pandas) (1.26.4)\n",
      "Requirement already satisfied: python-dateutil>=2.8.2 in /home/ssteel/.local/lib/python3.10/site-packages (from pandas) (2.8.2)\n",
      "Requirement already satisfied: pytz>=2020.1 in /usr/lib/python3/dist-packages (from pandas) (2022.1)\n",
      "Requirement already satisfied: tzdata>=2022.7 in /home/ssteel/.local/lib/python3.10/site-packages (from pandas) (2024.1)\n",
      "Requirement already satisfied: contourpy>=1.0.1 in /home/ssteel/.local/lib/python3.10/site-packages (from matplotlib) (1.2.0)\n",
      "Requirement already satisfied: cycler>=0.10 in /home/ssteel/.local/lib/python3.10/site-packages (from matplotlib) (0.12.1)\n",
      "Requirement already satisfied: fonttools>=4.22.0 in /home/ssteel/.local/lib/python3.10/site-packages (from matplotlib) (4.49.0)\n",
      "Requirement already satisfied: kiwisolver>=1.3.1 in /home/ssteel/.local/lib/python3.10/site-packages (from matplotlib) (1.4.5)\n",
      "Requirement already satisfied: packaging>=20.0 in /home/ssteel/.local/lib/python3.10/site-packages (from matplotlib) (24.0)\n",
      "Requirement already satisfied: pillow>=8 in /home/ssteel/.local/lib/python3.10/site-packages (from matplotlib) (10.2.0)\n",
      "Requirement already satisfied: pyparsing>=2.3.1 in /usr/lib/python3/dist-packages (from matplotlib) (2.4.7)\n",
      "Requirement already satisfied: six>=1.5 in /usr/lib/python3/dist-packages (from python-dateutil>=2.8.2->pandas) (1.16.0)\n"
     ]
    }
   ],
   "source": [
    "!pip install pandas matplotlib seaborn"
   ]
  },
  {
   "cell_type": "code",
   "execution_count": 1,
   "id": "da34883f-7fcd-4f3d-9284-8c503c107378",
   "metadata": {},
   "outputs": [
    {
     "name": "stderr",
     "output_type": "stream",
     "text": [
      "/tmp/ipykernel_49414/561376880.py:1: DeprecationWarning: \n",
      "Pyarrow will become a required dependency of pandas in the next major release of pandas (pandas 3.0),\n",
      "(to allow more performant data types, such as the Arrow string type, and better interoperability with other libraries)\n",
      "but was not found to be installed on your system.\n",
      "If this would cause problems for you,\n",
      "please provide us feedback at https://github.com/pandas-dev/pandas/issues/54466\n",
      "        \n",
      "  import pandas as pd\n"
     ]
    }
   ],
   "source": [
    "import pandas as pd\n",
    "import os\n",
    "import re"
   ]
  },
  {
   "cell_type": "code",
   "execution_count": 2,
   "id": "5060857e-616f-4fed-8781-7bb1d3e1c025",
   "metadata": {},
   "outputs": [],
   "source": [
    "def parse_usages(usage_string):\n",
    "    usages = []\n",
    "    usage_string = usage_string.replace(\"),C\",\")\\tC\")\n",
    "    usage_string = usage_string.split(\"\\t\")\n",
    "    usages_pattern = r\"[A-Za-z]PU: \\([^)]*\\)\"\n",
    "    cpu_usage_pattern = r\"maxrss: (\\d+MiB)\"\n",
    "    gpu_usage_pattern = r\"U: (\\d+MiB)\"\n",
    "    mapper = {\n",
    "        0: \"before (MiB)\",\n",
    "        1: \"after (MiB)\"\n",
    "    }\n",
    "    for i, moments in enumerate(usage_string):\n",
    "            matches = re.findall(usages_pattern, moments)\n",
    "            for match in matches:\n",
    "                match = match.replace(\",\",\"\")\n",
    "                cpu = re.findall(cpu_usage_pattern, match)\n",
    "                gpu = re.findall(gpu_usage_pattern, match)\n",
    "                if match[:3] == \"CPU\":\n",
    "                    usages.append({f\"{match[:3]}-{mapper[i]}\":int(cpu[0].replace(\"MiB\",\"\"))})\n",
    "                elif match[:3] == \"GPU\":\n",
    "                    usages.append({f\"{match[:3]}-{mapper[i]}\":int(gpu[0].replace(\"MiB\",\"\"))})                    \n",
    "    return usages\n",
    "            \n",
    "        "
   ]
  },
  {
   "cell_type": "code",
   "execution_count": 3,
   "id": "4725a8d2-2d5a-4902-bf7a-b863ecaee08f",
   "metadata": {},
   "outputs": [],
   "source": [
    "def parse_file(file):\n",
    "    lazy_load = True if \"--lazy-load\" in file else False\n",
    "    vllm_tensorized = True if \"--plaid-mode\"in file else False\n",
    "    df = pd.read_csv(file)\n",
    "    rows = []\n",
    "    for i in range(len(df)):\n",
    "        row = df.iloc[i]\n",
    "        load_format = row.name[0]\n",
    "        model = row.name[1]\n",
    "        duration = row[-2]\n",
    "        cache = row[-1]\n",
    "        to_concat = row.name[2:]\n",
    "        mem_before_after = \",\".join(to_concat)\n",
    "        vals = {}\n",
    "        vals.update({\"load_format\":load_format})\n",
    "        vals.update({\"model\":model})\n",
    "        for dic in parse_usages(mem_before_after):\n",
    "            vals.update(dic)\n",
    "        vals.update({\"duration(s)\":duration})\n",
    "        vals.update({\"cache_hit\":cache})\n",
    "        vals.update({\"lazy_load\":lazy_load})\n",
    "        vals.update({\"vllm_tensorized\":vllm_tensorized})\n",
    "        cpu_diff = vals[\"CPU-after (MiB)\"] - vals[\"CPU-before (MiB)\"]\n",
    "        gpu_diff = vals[\"GPU-after (MiB)\"] - vals[\"GPU-before (MiB)\"]\n",
    "        vals.update({\"CPU-diff-MiB\": cpu_diff})\n",
    "        vals.update({\"GPU-diff-MiB\": gpu_diff})\n",
    "        rows.append(vals)\n",
    "    return pd.DataFrame(rows)\n"
   ]
  },
  {
   "cell_type": "code",
   "execution_count": 4,
   "id": "ce083e5d-31d0-4615-99f0-11f67d2bb0ef",
   "metadata": {},
   "outputs": [],
   "source": [
    "import warnings\n",
    "\n",
    "warnings.filterwarnings(action='ignore', category=FutureWarning)"
   ]
  },
  {
   "cell_type": "code",
   "execution_count": 5,
   "id": "5f0b5bf8-cadf-43f6-b2e4-a14bc2f37551",
   "metadata": {},
   "outputs": [],
   "source": [
    "base_file = \"new_tensorizer\""
   ]
  },
  {
   "cell_type": "code",
   "execution_count": 6,
   "id": "910429ff-f237-4b0a-a58e-ffab58a2f8dc",
   "metadata": {},
   "outputs": [],
   "source": [
    "def get_data_count(benchmark_file):\n",
    "    return int(benchmark_file.split(\"_\")[2])"
   ]
  },
  {
   "cell_type": "code",
   "execution_count": 7,
   "id": "8f5d80d9-6e7f-4424-a301-a41cd1130b63",
   "metadata": {},
   "outputs": [],
   "source": [
    "def get_highest_data_count(benchmark_files):\n",
    "    counts = list(map(get_data_count, benchmark_files))\n",
    "    return max(counts)"
   ]
  },
  {
   "cell_type": "code",
   "execution_count": 8,
   "id": "dd39a5f9-530a-43ec-bea9-89c0239bf4ad",
   "metadata": {
    "scrolled": true
   },
   "outputs": [
    {
     "name": "stdout",
     "output_type": "stream",
     "text": [
      "['1711473670', '1711473529', '1711479047', '1711508525', '1711473613', '1711508700', '1711473705', '1711479024', '1711508764', '1711508834', '1711478924', '1711555307', '1711555013']\n",
      "Reading new_tensorizer/1711473670/tensorizer3/EleutherAI/pythia-1.4b/local/results_checkpoint_310_vals.csv\n",
      "Reading new_tensorizer/1711473529/tensorizer1/EleutherAI/pythia-1.4b/local/results_checkpoint_340_vals.csv\n",
      "Reading new_tensorizer/1711479047/tensorizer1/EleutherAI/pythia-1.4b/non-local/results_checkpoint_500_vals.csv\n",
      "Reading new_tensorizer/1711479047/tensorizer1/EleutherAI/pythia-1.4b/local/results_checkpoint_500_vals.csv\n",
      "Reading new_tensorizer/1711479047/tensorizer1/mistralai/Mistral-7B-v0.1/non-local/results_checkpoint_270_vals.csv\n",
      "Reading new_tensorizer/1711479047/tensorizer1/mistralai/Mistral-7B-v0.1/local/results_checkpoint_500_vals.csv\n",
      "Reading new_tensorizer/1711479047/tensorizer1/meta-llama/Llama-2-13b-hf/local/results_checkpoint_500_vals.csv\n",
      "Reading new_tensorizer/1711508525/tensorizer3/EleutherAI/pythia-1.4b/non-local/results_checkpoint_250_vals.csv\n",
      "Reading new_tensorizer/1711508525/tensorizer3/EleutherAI/pythia-1.4b/local/results_checkpoint_250_vals.csv\n",
      "Reading new_tensorizer/1711508525/tensorizer3/mistralai/Mistral-7B-v0.1/non-local/results_checkpoint_250_vals.csv\n",
      "Reading new_tensorizer/1711508525/tensorizer3/mistralai/Mistral-7B-v0.1/local/results_checkpoint_250_vals.csv\n",
      "Reading new_tensorizer/1711508525/tensorizer3/meta-llama/Llama-2-13b-hf/non-local/results_checkpoint_250_vals.csv\n",
      "Reading new_tensorizer/1711508525/tensorizer3/meta-llama/Llama-2-13b-hf/local/results_checkpoint_250_vals.csv\n",
      "Reading new_tensorizer/1711473613/tensorizer0/EleutherAI/pythia-1.4b/local/results_checkpoint_310_vals.csv\n",
      "Reading new_tensorizer/1711508700/tensorizer1/EleutherAI/pythia-1.4b/non-local/results_checkpoint_250_vals.csv\n",
      "Reading new_tensorizer/1711508700/tensorizer1/EleutherAI/pythia-1.4b/local/results_checkpoint_250_vals.csv\n",
      "Reading new_tensorizer/1711508700/tensorizer1/mistralai/Mistral-7B-v0.1/non-local/results_checkpoint_250_vals.csv\n",
      "Reading new_tensorizer/1711508700/tensorizer1/mistralai/Mistral-7B-v0.1/local/results_checkpoint_250_vals.csv\n",
      "Reading new_tensorizer/1711508700/tensorizer1/meta-llama/Llama-2-13b-hf/non-local/results_checkpoint_250_vals.csv\n",
      "Reading new_tensorizer/1711508700/tensorizer1/meta-llama/Llama-2-13b-hf/local/results_checkpoint_250_vals.csv\n",
      "Reading new_tensorizer/1711473705/tensorizer2/EleutherAI/pythia-1.4b/local/results_checkpoint_320_vals.csv\n",
      "Reading new_tensorizer/1711479024/tensorizer2/EleutherAI/pythia-1.4b/non-local/results_checkpoint_500_vals.csv\n",
      "Reading new_tensorizer/1711479024/tensorizer2/EleutherAI/pythia-1.4b/local/results_checkpoint_500_vals.csv\n",
      "Reading new_tensorizer/1711479024/tensorizer2/mistralai/Mistral-7B-v0.1/non-local/results_checkpoint_250_vals.csv\n",
      "Reading new_tensorizer/1711479024/tensorizer2/mistralai/Mistral-7B-v0.1/local/results_checkpoint_500_vals.csv\n",
      "Reading new_tensorizer/1711479024/tensorizer2/meta-llama/Llama-2-13b-hf/local/results_checkpoint_500_vals.csv\n",
      "Reading new_tensorizer/1711508764/tensorizer2/EleutherAI/pythia-1.4b/non-local/results_checkpoint_250_vals.csv\n",
      "Reading new_tensorizer/1711508764/tensorizer2/EleutherAI/pythia-1.4b/local/results_checkpoint_250_vals.csv\n",
      "Reading new_tensorizer/1711508764/tensorizer2/mistralai/Mistral-7B-v0.1/non-local/results_checkpoint_250_vals.csv\n",
      "Reading new_tensorizer/1711508764/tensorizer2/mistralai/Mistral-7B-v0.1/local/results_checkpoint_250_vals.csv\n",
      "Reading new_tensorizer/1711508764/tensorizer2/meta-llama/Llama-2-13b-hf/non-local/results_checkpoint_250_vals.csv\n",
      "Reading new_tensorizer/1711508764/tensorizer2/meta-llama/Llama-2-13b-hf/local/results_checkpoint_250_vals.csv\n",
      "Reading new_tensorizer/1711508834/tensorizer0/EleutherAI/pythia-1.4b/non-local/results_checkpoint_250_vals.csv\n",
      "Reading new_tensorizer/1711508834/tensorizer0/EleutherAI/pythia-1.4b/local/results_checkpoint_250_vals.csv\n",
      "Reading new_tensorizer/1711508834/tensorizer0/mistralai/Mistral-7B-v0.1/non-local/results_checkpoint_250_vals.csv\n",
      "Reading new_tensorizer/1711508834/tensorizer0/mistralai/Mistral-7B-v0.1/local/results_checkpoint_250_vals.csv\n",
      "Reading new_tensorizer/1711508834/tensorizer0/meta-llama/Llama-2-13b-hf/non-local/results_checkpoint_250_vals.csv\n",
      "Reading new_tensorizer/1711508834/tensorizer0/meta-llama/Llama-2-13b-hf/local/results_checkpoint_250_vals.csv\n",
      "Reading new_tensorizer/1711478924/tensorizer0/EleutherAI/pythia-1.4b/non-local/results_checkpoint_500_vals.csv\n",
      "Reading new_tensorizer/1711478924/tensorizer0/EleutherAI/pythia-1.4b/local/results_checkpoint_500_vals.csv\n",
      "Reading new_tensorizer/1711478924/tensorizer0/mistralai/Mistral-7B-v0.1/non-local/results_checkpoint_200_vals.csv\n",
      "Reading new_tensorizer/1711478924/tensorizer0/mistralai/Mistral-7B-v0.1/local/results_checkpoint_500_vals.csv\n",
      "Reading new_tensorizer/1711478924/tensorizer0/meta-llama/Llama-2-13b-hf/local/results_checkpoint_500_vals.csv\n",
      "Reading new_tensorizer/1711555307/safetensors3/EleutherAI/pythia-1.4b/non-local/results_checkpoint_250_vals.csv\n",
      "Reading new_tensorizer/1711555307/safetensors3/mistralai/Mistral-7B-v0.1/non-local/results_checkpoint_150_vals.csv\n",
      "Reading new_tensorizer/1711555013/npcache5/EleutherAI/pythia-1.4b/non-local/results_checkpoint_250_vals.csv\n",
      "Reading new_tensorizer/1711555013/npcache5/mistralai/Mistral-7B-v0.1/non-local/results_checkpoint_180_vals.csv\n"
     ]
    }
   ],
   "source": [
    "files = [file for file in os.listdir(base_file) if file.isnumeric()]\n",
    "print(files)\n",
    "dfs = []\n",
    "for file in files:\n",
    "    file = f\"{base_file}/{file}\"\n",
    "    load_type = os.listdir(file)[0]\n",
    "    for i, model in enumerate(os.listdir(f\"{file}/{load_type}\")):\n",
    "        model_ref_1 = os.listdir(f\"{file}/{load_type}\")[i]\n",
    "        model_ref_2 = os.listdir(f\"{file}/{load_type}/{model_ref_1}\")[0]\n",
    "        localities = os.listdir(f\"{file}/{load_type}/{model_ref_1}/{model_ref_2}\")\n",
    "        for locality in localities:\n",
    "            subpath = f\"{file}/{load_type}/{model_ref_1}/{model_ref_2}/{locality}\"\n",
    "            benchmark_files = os.listdir(subpath)\n",
    "            benchmark_files = [file for file in benchmark_files if not file.startswith(\".\")]\n",
    "            highest_digit = get_highest_data_count(benchmark_files)\n",
    "            benchmark = f\"results_checkpoint_{highest_digit}_vals.csv\"\n",
    "            print(f\"Reading {subpath}/{benchmark}\")\n",
    "            created_df = parse_file(f\"{subpath}/{benchmark}\")\n",
    "            created_df['local_or_not_local'] = locality\n",
    "            dfs.append(created_df)\n",
    "df = pd.concat(dfs)\n",
    "        "
   ]
  },
  {
   "cell_type": "code",
   "execution_count": 20,
   "id": "b9ba00c9-21a3-437f-a114-e82384e8c0ab",
   "metadata": {},
   "outputs": [
    {
     "data": {
      "text/plain": [
       "{'EleutherAI/pythia-1.4b'}"
      ]
     },
     "execution_count": 20,
     "metadata": {},
     "output_type": "execute_result"
    }
   ],
   "source": [
    "set(dfs[-1]['model'])"
   ]
  },
  {
   "cell_type": "code",
   "execution_count": 11,
   "id": "eeadd609-e5c3-4534-840f-66f800850e56",
   "metadata": {},
   "outputs": [],
   "source": [
    "df['model'] = [x.split(\"/\")[1] for x in df['model']]"
   ]
  },
  {
   "cell_type": "code",
   "execution_count": 12,
   "id": "57362eb0-537d-4e39-a3cb-47a571118417",
   "metadata": {},
   "outputs": [],
   "source": [
    "df = df.drop_duplicates()"
   ]
  },
  {
   "cell_type": "code",
   "execution_count": 17,
   "id": "ea5ab167-feca-42a4-8fee-45e4166cabae",
   "metadata": {},
   "outputs": [
    {
     "data": {
      "text/plain": [
       "{'pythia-1.4b'}"
      ]
     },
     "execution_count": 17,
     "metadata": {},
     "output_type": "execute_result"
    }
   ],
   "source": [
    "set(df[df['load_format'] == 'npcache'].model)"
   ]
  },
  {
   "cell_type": "code",
   "execution_count": 14,
   "id": "3f231045-4c68-453a-a3ea-ceaba4fceef3",
   "metadata": {},
   "outputs": [
    {
     "data": {
      "image/png": "[encoded data removed]",
      "text/plain": [
       "<Figure size 640x480 with 1 Axes>"
      ]
     },
     "metadata": {},
     "output_type": "display_data"
    }
   ],
   "source": [
    "import pandas as pd\n",
    "import matplotlib.pyplot as plt\n",
    "import seaborn as sns\n",
    "import re\n",
    "import textwrap\n",
    "\n",
    "# Create subplots\n",
    "\n",
    "# Set the seaborn style\n",
    "sns.set_style(\"whitegrid\")\n",
    "\n",
    "# Plot 1: All 3 models without 'plaid_mode'\n",
    "sns.barplot(x='model', y='duration(s)', hue='load_format', data=df, ci='sd', palette='pastel')\n",
    "plt.title(textwrap.fill('Model loading times using tensorizer', 40), fontsize=16)\n",
    "plt.xlabel('Model', fontsize=14)\n",
    "\n",
    "plt.savefig(\"Benchmark.jpg\")"
   ]
  },
  {
   "cell_type": "code",
   "execution_count": 11,
   "id": "65e7e50b-4a63-4d6b-a0fa-4e4801766d7e",
   "metadata": {},
   "outputs": [
    {
     "data": {
      "text/plain": [
       "{'meta-llama/Llama-2-13b-hf'}"
      ]
     },
     "execution_count": 11,
     "metadata": {},
     "output_type": "execute_result"
    }
   ],
   "source": [
    "set(df['model'])"
   ]
  },
  {
   "cell_type": "code",
   "execution_count": 19,
   "id": "30cf924e-5b84-40c1-a30f-4fffe2902be6",
   "metadata": {},
   "outputs": [
    {
     "data": {
      "text/plain": [
       "group\n",
       "EleutherAI/pythia-1.4btensorizer--                       8.994465\n",
       "EleutherAI/pythia-1.4btensorizer--lazy_load              9.278009\n",
       "EleutherAI/pythia-1.4btensorizer-plaid_mode-             8.781135\n",
       "EleutherAI/pythia-1.4btensorizer-plaid_mode-lazy_load    9.126989\n",
       "Name: duration(s), dtype: float64"
      ]
     },
     "execution_count": 19,
     "metadata": {},
     "output_type": "execute_result"
    }
   ],
   "source": [
    "grouped.mean()['local']"
   ]
  },
  {
   "cell_type": "code",
   "execution_count": null,
   "id": "3d09528c-e625-4608-bbf6-f31dca5dccea",
   "metadata": {},
   "outputs": [],
   "source": []
  }
 ],
 "metadata": {
  "kernelspec": {
   "display_name": "Python 3 (ipykernel)",
   "language": "python",
   "name": "python3"
  },
  "language_info": {
   "codemirror_mode": {
    "name": "ipython",
    "version": 3
   },
   "file_extension": ".py",
   "mimetype": "text/x-python",
   "name": "python",
   "nbconvert_exporter": "python",
   "pygments_lexer": "ipython3",
   "version": "3.10.12"
  }
 },
 "nbformat": 4,
 "nbformat_minor": 5
}
